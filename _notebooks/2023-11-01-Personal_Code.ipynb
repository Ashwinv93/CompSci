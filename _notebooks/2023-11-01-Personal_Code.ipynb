{
 "cells": [
  {
   "cell_type": "markdown",
   "metadata": {},
   "source": [
    "---\n",
    "toc: true\n",
    "comments: false\n",
    "layout: post\n",
    "title: Personal Code and Key Commits\n",
    "description: My contributions to our passion project\n",
    "courses: { compsci: {week: 10} }\n",
    "type: hacks\n",
    "---"
   ]
  },
  {
   "cell_type": "markdown",
   "metadata": {},
   "source": [
    "## Contribution 1\n",
    "This was a search function for our passion project. It uses the online pokeapi to display information about a pokemon that a user can search for. This ended up making it to the final project as a seperete feature to the pack opening."
   ]
  },
  {
   "cell_type": "code",
   "execution_count": null,
   "metadata": {
    "vscode": {
     "languageId": "plaintext"
    }
   },
   "outputs": [],
   "source": [
    "<html>\n",
    "<head>\n",
    "    <title>Pokemon Info</title>\n",
    "    //Frontend stuff to try to make it look better\n",
    "    <style>\n",
    "        body {\n",
    "            font-family: Arial, sans-serif;\n",
    "            text-align: center;\n",
    "            background-color: #F2F2F2;\n",
    "        }\n",
    "        #container {\n",
    "            background-color: #111;\n",
    "            padding: 100px;\n",
    "            border-radius: 8px;\n",
    "            box-shadow: 0 0 10px rgba(256, 256, 256, 0.2);\n",
    "            max-width: 400px;\n",
    "            margin: 0 auto;\n",
    "        }\n",
    "        h1 {\n",
    "            color: #E6494B;\n",
    "        }\n",
    "        label {\n",
    "            display: block;\n",
    "            margin-top: 10px;\n",
    "        }\n",
    "        input {\n",
    "            width: 100%;\n",
    "            padding: 7px;\n",
    "            margin: 5px 0;\n",
    "            border: 1px solid #ccc;\n",
    "            border-radius: 4px;\n",
    "        }\n",
    "        button {\n",
    "            background-color: #E6494B;\n",
    "            color: #fff;\n",
    "            padding: 10px 20px;\n",
    "            border: none;\n",
    "            border-radius: 4px;\n",
    "            cursor: pointer;\n",
    "        }\n",
    "        button:hover {\n",
    "            background-color: #D13234;\n",
    "        }\n",
    "        #result {\n",
    "            text-align: left;\n",
    "            margin-top: 20px;\n",
    "        }\n",
    "        img {\n",
    "            display: block;\n",
    "            margin: 0 auto;\n",
    "            max-width: 300%;\n",
    "            height: 200px;\n",
    "        }\n",
    "    </style>\n",
    "</head>\n",
    "<body>\n",
    "    <div id=\"container\">\n",
    "        <h1>Pokemon Information</h1>\n",
    "        <label for=\"pokemonName\">Enter a Pokemon Name or ID:</label>\n",
    "        <input type=\"text\" id=\"pokemonName\" list=\"pokemonList\">\n",
    "        <datalist id=\"pokemonList\"></datalist>\n",
    "        <button onclick=\"getPokemonInfo()\">Get Info</button>\n",
    "        <div id=\"result\">\n",
    "            <img id=\"pokemonImage\" src=\"\">\n",
    "        </div>\n",
    "    </div>\n",
    "    <script src=\"https://code.jquery.com/jquery-3.6.0.min.js\"></script>\n",
    "    <script>\n",
    "        // Function to populate the datalist with Pokemon names\n",
    "        function populatePokemonList() {\n",
    "            const apiUrl = 'https://pokeapi.co/api/v2/pokemon?limit=1000';\n",
    "            $.get(apiUrl, function(data) {\n",
    "                const pokemonList = document.getElementById('pokemonList');\n",
    "                data.results.forEach(pokemon => {\n",
    "                    const option = document.createElement('option');\n",
    "                    option.value = pokemon.name;\n",
    "                    pokemonList.appendChild(option);\n",
    "                });\n",
    "            });\n",
    "        }\n",
    "        // Call the function to populate the datalist on page load\n",
    "        populatePokemonList();\n",
    "        function getPokemonInfo() {\n",
    "            const pokemonName = document.getElementById('pokemonName').value;\n",
    "            const apiUrl = `https://pokeapi.co/api/v2/pokemon/${pokemonName.toLowerCase()}`;\n",
    "            $.get(apiUrl, function(data) {\n",
    "                const name = data.name;\n",
    "                const id = data.id;\n",
    "                const types = data.types.map(type => type.type.name).join(', ');\n",
    "                const abilities = data.abilities.map(ability => ability.ability.name).join(', ');\n",
    "                const height = data.height;\n",
    "                const weight = data.weight;\n",
    "                const imageURL = data.sprites.front_default;\n",
    "                const baseStats = data.stats.map(stat => `${stat.stat.name}: ${stat.base_stat}`).join(', ');\n",
    "                const result = `\n",
    "                    <img id=\"pokemonImage\" src=\"${imageURL}\" alt=\"Pokemon Image\">\n",
    "                    <p><strong>Name:</strong> ${name}</p>\n",
    "                    <p><strong>ID:</strong> ${id}</p>\n",
    "                    <p><strong>Types:</strong> ${types}</p>\n",
    "                    <p><strong>Abilities:</strong> ${abilities}</p>\n",
    "                    <p><strong>Height:</strong> ${height} dm</p>\n",
    "                    <p><strong>Weight:</strong> ${weight} hectograms</p>\n",
    "                    <p><strong>Base Stats:</strong> ${baseStats}</p>\n",
    "                `;\n",
    "                document.getElementById('result').innerHTML = result;\n",
    "            });\n",
    "        }\n",
    "    </script>\n",
    "</body>\n",
    "</html>"
   ]
  },
  {
   "cell_type": "markdown",
   "metadata": {},
   "source": [
    "## Contribution 2\n",
    "This was how I incorpitrated what I did above, for the search into the pokemon pack opening. This code allows use to use our api combined with the online api, to easily add images, and a bit more detail to our cards. This proved to be an extreamly valuable time save for our team, because we did not have to manuely add all the images to the api for all the 150 pokemon we wanted to add.\n"
   ]
  },
  {
   "cell_type": "code",
   "execution_count": null,
   "metadata": {
    "vscode": {
     "languageId": "plaintext"
    }
   },
   "outputs": [],
   "source": [
    "// Function to fetch detailed Pokémon information from PokeAPI\n",
    "async function getPokemonInfo(pokemonName) {\n",
    "    const response = await fetch(`https://pokeapi.co/api/v2/pokemon/${pokemonName.toLowerCase()}`);\n",
    "    const data = await response.json();\n",
    "    if (response.status === 200) {\n",
    "        const types = data.types.map(type => type.type.name).join(\", \");\n",
    "        const abilities = data.abilities.map(ability => ability.ability.name).join(\", \");\n",
    "        return `Type(s): ${types}\\nAbilities: ${abilities}`;\n",
    "    } else {\n",
    "        return \"Pokémon info not found!\";\n",
    "    }\n",
    "}\n",
    "\n",
    "// Function to fetch Pokémon image from PokeAPI\n",
    "async function getPokemonImage(pokemonName) {\n",
    "    const response = await fetch(`https://pokeapi.co/api/v2/pokemon/${pokemonName.toLowerCase()}`);\n",
    "    const data = await response.json();\n",
    "    if (response.status === 200) {\n",
    "        return data.sprites.front_default;\n",
    "    } else {\n",
    "        return \"Image not found!\";\n",
    "    }\n",
    "}"
   ]
  },
  {
   "cell_type": "markdown",
   "metadata": {},
   "source": [
    "## Key Commits\n",
    "\n",
    "Some of my key commits toward the passion project are,\n",
    "\n",
    "> Added Search with frontend: https://github.com/RonitT1234/JARV_Frontend/actions/runs/6765923758\n",
    "\n",
    "> Added List with all pokemon: https://github.com/RonitT1234/JARV_Frontend/actions/runs/6765923758"
   ]
  },
  {
   "cell_type": "markdown",
   "metadata": {},
   "source": [
    "The first comit was adding the online pokiapi to our main project, and somewhat intergrating it with the cards. The second comit was the introduction of all the pokemon into our personal api in the back end. It was just moddifying the python list to include all the pokemon we wanted to include. I also had to make sure nothing would break in the flask server or AWS, as it would mess up our entire api."
   ]
  }
 ],
 "metadata": {
  "language_info": {
   "name": "python"
  },
  "orig_nbformat": 4
 },
 "nbformat": 4,
 "nbformat_minor": 2
}
