{
 "cells": [
  {
   "cell_type": "markdown",
   "metadata": {},
   "source": [
    "---\n",
    "toc: true\n",
    "comments: false\n",
    "layout: post\n",
    "title: CollegeBoard Practice MC Reflection\n",
    "description: CollegeBoard Reflection\n",
    "courses: { compsci: {week: 10} }\n",
    "type: tangibles\n",
    "---"
   ]
  },
  {
   "cell_type": "markdown",
   "metadata": {},
   "source": [
    "# Reflection:\n",
    "I recived a 62/66 on the quiz, which I feel is pretty good. 3 of the quetions I got wrong were on Pseudo Code, so I felt It would be beneficial to review on Pseudo Code along with IPv4 adressing, "
   ]
  },
  {
   "cell_type": "markdown",
   "metadata": {},
   "source": [
    "# Things to Review:\n",
    "\n",
    "1. Pseudo Code"
   ]
  },
  {
   "cell_type": "markdown",
   "metadata": {},
   "source": [
    "# Psuedo Code\n",
    "[![pseudo code](https://media.discordapp.net/attachments/795744270732099634/1171160390009364550/pseudo_code.png?ex=655bab1c&is=6549361c&hm=4618242153698d2610a97c4da4416f5013bbbeb9487abf234f8e73bc001bb12f&=&width=718&height=325 'pseudo code')](https://d1qmdf3vop2l07.cloudfront.net/new-violin.cloudvent.net/compressed/b1d2367f596074cb9a7761a1be59f6e7.pdf)\n",
    "\n",
    "## Notes\n",
    "\n",
    "- Pseudocode: Pseudocode is a way to represent an algorithm using a mix of natural language and simplified programming constructs. It's used to describe the logic of a program without writing full code.\n",
    "- Variables: Variables can be declared using simple names, and their values can be assigned and manipulated within pseudocode.\n",
    "- Loops: Pseudocode allows the description of loops and repetitions, such as \"REPEAT UNTIL\" and \"REPEAT n TIMES,\" to control program flow."
   ]
  },
  {
   "cell_type": "code",
   "execution_count": null,
   "metadata": {
    "vscode": {
     "languageId": "plaintext"
    }
   },
   "outputs": [],
   "source": [
    "#REPEAT and IF\n",
    "REPEAT n TIMES\n",
    "    IF condition THEN\n",
    "        // Code block\n",
    "    END IF\n",
    "END REPEAT"
   ]
  },
  {
   "cell_type": "code",
   "execution_count": null,
   "metadata": {
    "vscode": {
     "languageId": "plaintext"
    }
   },
   "outputs": [],
   "source": [
    "#FUNCTION\n",
    "FUNCTION calculateSum(a, b)\n",
    "    // Code code code\n",
    "END FUNCTION"
   ]
  },
  {
   "cell_type": "code",
   "execution_count": null,
   "metadata": {
    "vscode": {
     "languageId": "plaintext"
    }
   },
   "outputs": [],
   "source": [
    "DECLARE list[]\n",
    "ADD item TO list\n",
    "FOR EACH item IN list\n",
    "    // Code code code\n",
    "END FOR"
   ]
  }
 ],
 "metadata": {
  "language_info": {
   "name": "python"
  }
 },
 "nbformat": 4,
 "nbformat_minor": 2
}
